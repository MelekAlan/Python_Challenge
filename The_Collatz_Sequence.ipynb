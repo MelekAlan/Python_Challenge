{
  "nbformat": 4,
  "nbformat_minor": 0,
  "metadata": {
    "colab": {
      "name": "The Collatz Sequence.ipynb",
      "provenance": [],
      "authorship_tag": "ABX9TyMyMWrxJ4efXqOffuRJoWsY",
      "include_colab_link": true
    },
    "kernelspec": {
      "name": "python3",
      "display_name": "Python 3"
    },
    "language_info": {
      "name": "python"
    }
  },
  "cells": [
    {
      "cell_type": "markdown",
      "metadata": {
        "id": "view-in-github",
        "colab_type": "text"
      },
      "source": [
        "<a href=\"https://colab.research.google.com/github/MelekAlan/Python_Projects/blob/main/The_Collatz_Sequence.ipynb\" target=\"_parent\"><img src=\"https://colab.research.google.com/assets/colab-badge.svg\" alt=\"Open In Colab\"/></a>"
      ]
    },
    {
      "cell_type": "markdown",
      "metadata": {
        "id": "ygh36-6-0DFb"
      },
      "source": [
        "The Collatz sequence is as follows:\n",
        "\n",
        "\n",
        "Start with some given integer n.\n",
        "\n",
        "If it is even, the next number will be n divided by 2.\n",
        "\n",
        "If it is odd, multiply it by 3 and add 1 to make the next number.\n",
        "\n",
        "The sequence stops when it reaches 1.\n",
        "\n",
        "According to the Collatz conjecture, it will always reach 1.\n",
        " \n",
        "If that's true, you can construct a finite sequence following the aforementioned method for any given integer.\n",
        "\n",
        "Write a function that takes in an integer n and returns the highest integer in the corresponding Collatz sequence.\n",
        "\n",
        "Examples\n",
        "\n",
        "max_collatz(10) ➞ 16\n",
        "\n",
        "Collatz sequence: 10, 5, 16, 8, 4, 2, 1\n",
        "\n",
        "max_collatz(32) ➞ 32\n",
        "\n",
        "Collatz sequence: 32, 16, 8, 4, 2, 1\n",
        "\n",
        "\n",
        "max_collatz(85) ➞ 256\n",
        "\n",
        "Collatz sequence: 85, 256, 128, 64, 32, 16, 8, 4, 2, 1"
      ]
    },
    {
      "cell_type": "code",
      "metadata": {
        "id": "lEHtJ7Ff0SUU"
      },
      "source": [
        "n = int(input())\n",
        "n_list = [n]\n",
        "while n != 1 :\n",
        "  if n % 2 :\n",
        "    n = n * 3 + 1\n",
        "  else :\n",
        "    n = n // 2\n",
        "  n_list.append(n)\n",
        "\n",
        "print(max(n_list))"
      ],
      "execution_count": null,
      "outputs": []
    }
  ]
}